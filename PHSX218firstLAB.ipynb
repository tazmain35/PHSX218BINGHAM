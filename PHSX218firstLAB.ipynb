{
 "cells": [
  {
   "cell_type": "code",
   "execution_count": 1,
   "metadata": {},
   "outputs": [],
   "source": [
    "import numpy as np"
   ]
  },
  {
   "cell_type": "code",
   "execution_count": 2,
   "metadata": {},
   "outputs": [],
   "source": [
    "def rule3(dA,dB):\n",
    "    dQ = np.sqrt(dA**2 + dB**2)\n",
    "    return dQ"
   ]
  },
  {
   "cell_type": "code",
   "execution_count": 9,
   "metadata": {},
   "outputs": [],
   "source": [
    "def rule4(Q,dA,A,dB,B,dC,C):\n",
    "    dQ = Q*np.sqrt(((dA/A)**2)+((dB/B)**2) + ((dC/C)**2))\n",
    "    return dQ"
   ]
  },
  {
   "cell_type": "code",
   "execution_count": 4,
   "metadata": {},
   "outputs": [],
   "source": [
    "leng=1.05 #in m\n",
    "d_len= 0.001 #in m\n",
    "delta_len= 0.00125 #in m\n",
    "d_delta_len= 0.00001 #in m\n",
    "temp_i=23.4 #in degrees Celsius\n",
    "temp_f=92.5 #in degrees Celsius\n",
    "d_temp_i=0.3 #in degrees Celsius\n",
    "d_temp_f=0.1 #in degrees Celsius"
   ]
  },
  {
   "cell_type": "code",
   "execution_count": 5,
   "metadata": {},
   "outputs": [
    {
     "name": "stdout",
     "output_type": "stream",
     "text": [
      "0.31622776601683794\n"
     ]
    }
   ],
   "source": [
    "delta_temp=temp_f-temp_i\n",
    "d_delta_temp=rule3(d_temp_f,d_temp_i)\n",
    "print(d_delta_temp)\n"
   ]
  },
  {
   "cell_type": "code",
   "execution_count": 11,
   "metadata": {},
   "outputs": [
    {
     "name": "stdout",
     "output_type": "stream",
     "text": [
      "1.7228309558266145e-05\n"
     ]
    }
   ],
   "source": [
    "alpha = delta_len/(leng*delta_temp)\n",
    "print(alpha)"
   ]
  },
  {
   "cell_type": "code",
   "execution_count": 16,
   "metadata": {},
   "outputs": [
    {
     "name": "stdout",
     "output_type": "stream",
     "text": [
      "1.5962962826045274e-07\n"
     ]
    }
   ],
   "source": [
    "d_alpha= rule4(alpha, d_delta_len,delta_len,d_len,leng,d_delta_temp,delta_temp)\n",
    "print(d_alpha)"
   ]
  },
  {
   "cell_type": "code",
   "execution_count": null,
   "metadata": {},
   "outputs": [],
   "source": []
  }
 ],
 "metadata": {
  "kernelspec": {
   "display_name": "Python 3",
   "language": "python",
   "name": "python3"
  },
  "language_info": {
   "codemirror_mode": {
    "name": "ipython",
    "version": 3
   },
   "file_extension": ".py",
   "mimetype": "text/x-python",
   "name": "python",
   "nbconvert_exporter": "python",
   "pygments_lexer": "ipython3",
   "version": "3.7.3"
  }
 },
 "nbformat": 4,
 "nbformat_minor": 2
}
